{
 "cells": [
  {
   "cell_type": "markdown",
   "metadata": {
    "id": "2VP6d4IEg-qk"
   },
   "source": [
    "# Optimizacion Industrial con Computacion Evolutiva\n",
    "<b> Diplomatura de Especialización en Desarrollo de Aplicaciones con Inteligencia Artificial</b>\n",
    "\n",
    "Dr. Edwin Villanueva (ervillanueva@pucp.edu.pe)"
   ]
  },
  {
   "cell_type": "markdown",
   "metadata": {
    "id": "s4LxYBghg-qy"
   },
   "source": [
    "## Asignación de vuelos a gates en aeropuerto\n",
    "\n",
    "Esta  notebook implementa un algoritmo genético monoobjetivo para la resolución de la asignación de vuelos a gates. Los operadores de cruzamiento y mutación NO aseguran que los individuos representen vuelos diferentes y gates diferentes.\n",
    "\n",
    "#### Representacion de Individuo:\n",
    "\n",
    "Un objeto Individual representaa una determinada asignacion de un subconjunto de vuelos (almacenado en <b>list_of_flights</b>) a un conjunto de gates (almacenado en <b>chromosome</b>). La lista de gates disponibles que se pueden asignar a los vuelos se almacena en la variable <b>allele_pool</b>  del individuo. Ver el siguiente grafico ilustrativo:\n",
    "\n",
    "<img src=\"EjemploIndividuoAvion.jpg\">\n",
    "\n"
   ]
  },
  {
   "cell_type": "code",
   "execution_count": 112,
   "metadata": {
    "id": "3BiTFdyNhskY"
   },
   "outputs": [],
   "source": [
    "import sys\n",
    "import time\n",
    "import numpy as np\n",
    "import random\n",
    "from random import choice, seed, randint, sample, uniform, randrange\n",
    "from copy import deepcopy\n",
    "import matplotlib.pyplot as plt"
   ]
  },
  {
   "cell_type": "markdown",
   "metadata": {
    "id": "IRVDEMS3g-q1"
   },
   "source": [
    "### Clase <b>Individual</b>\n",
    "\n",
    "Esta es una clase para definir a un individuo de la población. Cada individuo posee un cromosoma, los vuelos a asignar, todos los posibles alelos y su respectivo fitness. Además, los métodos de esta clase permiten realizar el cruzamiento (crossover) y la mutación (mutation) sobre el cromosoma del individuo."
   ]
  },
  {
   "cell_type": "code",
   "execution_count": 113,
   "metadata": {
    "id": "wD-qU6LnGM8_"
   },
   "outputs": [],
   "source": [
    "# Clase que implementa el individuo y sus operadores\n",
    "class Individual(object):\n",
    "\n",
    "    # El constructor recibe la lista de vuelos que representa el individuo y los gates asignados, asi como el pool de flights y gates\n",
    "    def __init__(self, flights, gates, flights_pool, gates_pool):\n",
    "        self.flights = flights[:]\n",
    "        self.gates = gates[:]\n",
    "        self.flights_pool = flights_pool\n",
    "        self.gates_pool = gates_pool\n",
    "        self.fitness = -1  # -1 indica que el individuo no ha sido evaluado\n",
    "\n",
    "    def crossover_onepoint(self, other):\n",
    "        \"Retorna dos nuevos individuos del cruzamiento de un punto entre individuos self y other \"\n",
    "        c = randrange(len(self.gates))  # escoge aleatoriamento una posicion en la lista gates\n",
    "        ind1 = Individual(self.flights, self.gates[:c] + other.gates[c:], self.flights_pool, self.gates_pool)\n",
    "        ind2 = Individual(self.flights, other.gates[:c] + self.gates[c:], self.flights_pool, self.gates_pool)\n",
    "        return [ind1, ind2]\n",
    "\n",
    "    def crossover_onepoint_custom(self, other):\n",
    "        # Retorna dos nuevos individuos del cruzamiento de un punto entre individuos self y other\n",
    "        c = randrange(len(self.gates))  # escoge aleatoriamente una posición en la lista gates\n",
    "\n",
    "        # Crear copias de los padres\n",
    "        gates_self = self.gates.copy()\n",
    "        gates_other = other.gates.copy()\n",
    "\n",
    "        # Crear diccionarios para almacenar la asignación de vuelos a gates\n",
    "        flight_gate_self = {}\n",
    "        flight_gate_other = {}\n",
    "\n",
    "        # Realizar la asignación única de gates a vuelos en los descendientes\n",
    "        for flight, gate in zip(self.flights, gates_self):\n",
    "            flight_gate_self[flight] = gate\n",
    "\n",
    "        for flight, gate in zip(other.flights, gates_other):\n",
    "            flight_gate_other[flight] = gate\n",
    "\n",
    "        for flight, gate in zip(self.flights, gates_self):\n",
    "            if flight in flight_gate_other.values():\n",
    "                # Si el vuelo ya está asignado en el otro individuo, asignar un gate disponible\n",
    "                available_gates = [g for g in self.gates if g not in gates_self]\n",
    "                new_gate = random.choice(available_gates)\n",
    "                gates_self[gates_self.index(gate)] = new_gate\n",
    "                flight_gate_self[flight] = new_gate\n",
    "\n",
    "        for flight, gate in zip(other.flights, gates_other):\n",
    "            if flight in flight_gate_self.values():\n",
    "                # Si el vuelo ya está asignado en el otro individuo, asignar un gate disponible\n",
    "                available_gates = [g for g in other.gates if g not in gates_other]\n",
    "                new_gate = random.choice(available_gates)\n",
    "                gates_other[gates_other.index(gate)] = new_gate\n",
    "                flight_gate_other[flight] = new_gate\n",
    "\n",
    "        # Crear los nuevos individuos con las asignaciones actualizadas\n",
    "        ind1 = Individual(self.flights, gates_self, self.flights_pool, self.gates_pool)\n",
    "        ind2 = Individual(other.flights, gates_other, other.flights_pool, other.gates_pool)\n",
    "        return [ind1, ind2]\n",
    "\n",
    "    def crossover_uniform(self, other):\n",
    "        \"Retorna dos nuevos individuos del cruzamiento uniforme entre self y other \"\n",
    "        gates_ind1 = []\n",
    "        gates_ind2 = []\n",
    "\n",
    "        for i in range(len(self.gates)):\n",
    "            if uniform(0, 1) < 0.5:\n",
    "                gates_ind1.append(self.gates[i])\n",
    "                gates_ind2.append(other.gates[i])\n",
    "            else:\n",
    "                gates_ind1.append(other.gates[i])\n",
    "                gates_ind2.append(self.gates[i])\n",
    "        ind1 = Individual(self.flights, gates_ind1, self.flights_pool, self.gates_pool)\n",
    "        ind2 = Individual(self.flights, gates_ind2, self.flights_pool, self.gates_pool)\n",
    "        return [ind1, ind2]\n",
    "\n",
    "    def crossover_uniform_custom(self, other):\n",
    "        \"Retorna dos nuevos individuos del cruzamiento uniforme entre self y other \"\n",
    "        gates_ind1 = []  # Lista para almacenar los gates del primer individuo hijo\n",
    "        gates_ind2 = []  # Lista para almacenar los gates del segundo individuo hijo\n",
    "        unused_gates = list(self.gates_pool)  # Lista de gates no utilizados\n",
    "        used_gates = []  # Lista de gates utilizados\n",
    "\n",
    "        for i in range(len(self.gates)):\n",
    "            if uniform(0, 1) < 0.5:  # Probabilidad de selección del gate del primer padre\n",
    "                if self.gates[i] in unused_gates:  # Si el gate del primer padre no ha sido utilizado\n",
    "                    unused_gates.remove(self.gates[i])  # Eliminar el gate de la lista de no utilizados\n",
    "                    used_gates.append(self.gates[i])  # Agregar el gate a la lista de utilizados\n",
    "                    gates_ind1.append(self.gates[i])  # Asignar el gate al primer individuo hijo\n",
    "                else:\n",
    "                    gate = choice(unused_gates)  # Seleccionar un gate no utilizado al azar\n",
    "                    unused_gates.remove(gate)  # Eliminar el gate seleccionado de la lista de no utilizados\n",
    "                    used_gates.append(gate)  # Agregar el gate a la lista de utilizados\n",
    "                    gates_ind1.append(gate)  # Asignar el gate al primer individuo hijo\n",
    "            else:\n",
    "                if other.gates[i] in unused_gates:  # Si el gate del segundo padre no ha sido utilizado\n",
    "                    unused_gates.remove(other.gates[i])  # Eliminar el gate de la lista de no utilizados\n",
    "                    used_gates.append(other.gates[i])  # Agregar el gate a la lista de utilizados\n",
    "                    gates_ind1.append(other.gates[i])  # Asignar el gate al primer individuo hijo\n",
    "                else:\n",
    "                    gate = choice(unused_gates)  # Seleccionar un gate no utilizado al azar\n",
    "                    unused_gates.remove(gate)  # Eliminar el gate seleccionado de la lista de no utilizados\n",
    "                    used_gates.append(gate)  # Agregar el gate a la lista de utilizados\n",
    "                    gates_ind1.append(gate)  # Asignar el gate al primer individuo hijo\n",
    "\n",
    "        for i in range(len(self.gates)):\n",
    "            if gates_ind1[i] in used_gates:  # Si el gate ya fue utilizado en gates_ind1\n",
    "                unused_gates.append(gates_ind1[i])  # Agregar el gate a la lista de no utilizados\n",
    "\n",
    "        for i in range(len(self.gates)):\n",
    "            if gates_ind1[i] in unused_gates:  # Si el gate del primer individuo hijo no ha sido utilizado\n",
    "                unused_gates.remove(gates_ind1[i])  # Eliminar el gate de la lista de no utilizados\n",
    "                gates_ind2.append(gates_ind1[i])  # Asignar el gate al segundo individuo hijo\n",
    "            else:\n",
    "                gate = choice(unused_gates)  # Seleccionar un gate no utilizado al azar\n",
    "                unused_gates.remove(gate)  # Eliminar el gate seleccionado de la lista de no utilizados\n",
    "                gates_ind2.append(gate)  # Asignar el gate al segundo individuo hijo\n",
    "\n",
    "        ind1 = Individual(self.flights, gates_ind1, self.flights_pool,\n",
    "                          self.gates_pool)  # Crear el primer individuo hijo\n",
    "        ind2 = Individual(self.flights, gates_ind2, self.flights_pool,\n",
    "                          self.gates_pool)  # Crear el segundo individuo hijo\n",
    "        return [ind1, ind2]  # Retornar los individuos hijos generados\n",
    "\n",
    "    def mutate_position(self):\n",
    "        \"Cambia aleatoriamente el Gate asignado a un Flight.\"\n",
    "        mutated_gates = deepcopy(self.gates)\n",
    "        indexGate = randrange(0, len(self.gates))  # escoge el índice del elemento de gates que será mutado\n",
    "        newGate = self.gates_pool[randrange(0, len(self.gates_pool))]\n",
    "        mutated_gates[indexGate] = newGate\n",
    "        return Individual(self.flights, mutated_gates, self.flights_pool, self.gates_pool)\n",
    "\n",
    "    def mutate_swap(self):\n",
    "        \"Realiza una mutación de intercambio en el individuo\"\n",
    "        mutated_gates = deepcopy(self.gates)\n",
    "        index1, index2 = random.sample(range(len(mutated_gates)), 2)\n",
    "        mutated_gates[index1], mutated_gates[index2] = mutated_gates[index2], mutated_gates[index1]\n",
    "        return Individual(self.flights, mutated_gates, self.flights_pool, self.gates_pool)\n",
    "\n",
    "    def mutate_insertion(self):\n",
    "        \"Realiza una mutación de inserción en el individuo\"\n",
    "        mutated_gates = deepcopy(self.gates)\n",
    "        index1, index2 = random.sample(range(len(mutated_gates)), 2)\n",
    "        gate = mutated_gates.pop(index1)\n",
    "        mutated_gates.insert(index2, gate)\n",
    "        return Individual(self.flights, mutated_gates, self.flights_pool, self.gates_pool)"
   ]
  },
  {
   "cell_type": "markdown",
   "metadata": {
    "id": "c8x_4uA5i9XT"
   },
   "source": [
    "### Clase <b>Gate</b>\n",
    "\n",
    "Esta es una clase abstracta para definir los lugares donde los vuelos serán asignados. Se debe hacer subclases con el fin de diferenciar los tipos de lugar donde un vuelo puede ser asignado."
   ]
  },
  {
   "cell_type": "code",
   "execution_count": 114,
   "metadata": {
    "id": "rycIj2j6i_PZ"
   },
   "outputs": [],
   "source": [
    "class Gate(object):\n",
    "    def __init__(self, identifier, x, y, z):\n",
    "        self.identifier = identifier   # identificador del Gate\n",
    "        self.distance = x              # en el caso de Sleeve esto almacena la longitud de manga. En el caso de zonas es la distancia a una puerta del aeropuerto \n",
    "        self.potential_of_speed = y    # en el caso de Sleeve esto almacena la velocidad de pasajeros en manga. En el caso de zona almacena la velocidad del bus \n",
    "        self.number_of_persons_every_10m = z   # en el caso de Sleeve esto almacena el numero de personas cada 10 metros. En el cazo de zona es la capacidad del bus\n",
    "  \n",
    "    def __hash__(self):\n",
    "        return self.identifier"
   ]
  },
  {
   "cell_type": "markdown",
   "metadata": {
    "id": "fbHPYQ4qj6fb"
   },
   "source": [
    "### Clase <b>Sleeve</b>\n",
    "\n",
    "Esta clase implementa concretamente el Gate tipo Sleeve (Manga). En este tipo de gate, los pasajeros deben realizar un recorrido a pie hasta abandonar totalmente el Gate. Se tiene en cuenta la longitud de la manga, la velocidad de los pasajeros y la cantidad de personas que pueden estar cada 10m (este valor es variable porque ya refleja el ancho de la manga, puesto que una manga más ancha permite una mayor cantidad de pasajeros)."
   ]
  },
  {
   "cell_type": "code",
   "execution_count": 115,
   "metadata": {
    "id": "E9XCmO-3j472"
   },
   "outputs": [],
   "source": [
    "class Sleeve(Gate):\n",
    "    def __init__(self, identifier, length_of_sleeve, speed_of_passengers_on_sleeve, number_of_passengers_every_10m):\n",
    "        super().__init__(identifier, length_of_sleeve, speed_of_passengers_on_sleeve, number_of_passengers_every_10m)"
   ]
  },
  {
   "cell_type": "markdown",
   "metadata": {
    "id": "0T5fySg6lytA"
   },
   "source": [
    "### Clase <b>Zone</b>\n",
    "\n",
    "Esta clase implementa concretamente el Gate tipo Zone (zona). En este tipo de gate, los pasajeros son recogidos por un bus y son llevados hasta una puerta. Se tiene en cuenta la distancia de la zona a la puerta, la velocidad y capacidad del bus."
   ]
  },
  {
   "cell_type": "code",
   "execution_count": 116,
   "metadata": {
    "id": "yzwjyLG_l0nz"
   },
   "outputs": [],
   "source": [
    "class Zone(Gate):\n",
    "    def __init__(self, identifier, distance_zone_door, speed_bus, capacity_of_bus):\n",
    "        super().__init__(identifier, distance_zone_door, speed_bus, capacity_of_bus)"
   ]
  },
  {
   "cell_type": "markdown",
   "metadata": {
    "id": "ieZ9wq8amMgT"
   },
   "source": [
    "### Clase <b>Flight</b>\n",
    "\n",
    "Esta es una clase para definir a los vuelos a asignar. Cada vuelo posee una capacidad máxima, la cantidad de pasajeros, el tiempo de estacionamiento que le toma al vuelo, la longitud de las alas del avión, el tiempo de inspección al avión luego de aterrizar, el tiempo que demorarían en bajar las escaleras los pasajeros si el avión estuviera repleto, el momento de llegada al aeropuerto y el momento en que debería irse del aeropuerto."
   ]
  },
  {
   "cell_type": "code",
   "execution_count": 117,
   "metadata": {
    "id": "3Nt88YPkmLb7"
   },
   "outputs": [],
   "source": [
    "class Flight(object):\n",
    "    def __init__(self, identifier, maximum_capacity, number_of_passengers, parking_time, length_wings, inspection_time, landing_time_on_stairs, arriving_time, leaving_time):\n",
    "        self.identifier = identifier  # identificador de vuelo\n",
    "        self.maximum_capacity = maximum_capacity  # maxima capacidad del vuelo\n",
    "        self.number_of_passengers = number_of_passengers  # numero de pasajeros\n",
    "        self.parking_time = parking_time   # tiempo de parqueo\n",
    "        self.length_wings = length_wings   # longitud de las alas\n",
    "        self.inspection_time = inspection_time  # tiempo de inspeccion\n",
    "        self.landing_time_on_stairs = landing_time_on_stairs  \n",
    "        self.arriving_time = arriving_time   # tiempo de llegada al aeropuerto\n",
    "        self.leaving_time = leaving_time   # tiempo de partida del aeropuerto\n",
    "  \n",
    "    def __hash__(self):\n",
    "        return self.identifier"
   ]
  },
  {
   "cell_type": "markdown",
   "metadata": {
    "id": "tJ5cKDEOg-q4"
   },
   "source": [
    "### Funciones utilitarias para generar los Gates y Vuelos</b>\n",
    "Estas son funciones utilitarias para generar automáticamente los Gates y Vuelos"
   ]
  },
  {
   "cell_type": "code",
   "execution_count": 118,
   "metadata": {
    "id": "k8p8en78FCcq"
   },
   "outputs": [],
   "source": [
    "# Genera una lista de Gates\n",
    "def generate_list_of_gates(number_of_gates, max_length_of_sleeve=20, max_speed_of_passengers_on_sleeve=3, max_number_of_passengers_every_10m=12, max_distance_zone_door=50, max_speed_bus=15, max_capacity_of_bus=200):\n",
    "  list_of_gates = list()\n",
    "\n",
    "  for gate_identifier in range(number_of_gates):\n",
    "    gate_type = randint(0, 1)\n",
    "\n",
    "    if gate_type == 0:   # caso manga\n",
    "      distance = randint(1, max_length_of_sleeve)\n",
    "      potential_of_speed = randint(1, max_speed_of_passengers_on_sleeve)\n",
    "      number_of_persons_every_10m = randint(1, max_number_of_passengers_every_10m)\n",
    "\n",
    "      gate = Sleeve(gate_identifier, distance, potential_of_speed, number_of_persons_every_10m)\n",
    "   \n",
    "    else:    # caso zone\n",
    "      distance = randint(1, max_distance_zone_door)\n",
    "      potential_of_speed = randint(1, max_speed_bus)\n",
    "      number_of_persons_every_10m = randint(1, max_capacity_of_bus)\n",
    "\n",
    "      gate = Zone(gate_identifier, distance, potential_of_speed, number_of_persons_every_10m)\n",
    "    \n",
    "    list_of_gates.append(gate)\n",
    "  \n",
    "  return list_of_gates\n",
    "\n",
    "# Genera una lista de Flights\n",
    "def generate_list_of_flights(number_of_flights, max_maximum_capacity=100, max_number_of_passengers_factor=0.8, max_parking_time=30, max_length_wings=25, max_inspection_time=180, max_landing_time_on_stairs=60, max_arriving_time=200, max_leaving_time=1000):\n",
    "  list_of_flights = list()\n",
    "\n",
    "  max_number_of_passengers = max_number_of_passengers_factor * max_maximum_capacity\n",
    "\n",
    "  for flight_identifier in range(number_of_flights):\n",
    "    maximum_capacity = randint(max_number_of_passengers, max_maximum_capacity)\n",
    "    number_of_passengers = randint(1, max_number_of_passengers)\n",
    "    parking_time = randint(1, max_parking_time)\n",
    "    length_wings = randint(1, max_length_wings)\n",
    "    inspection_time = randint(1, max_inspection_time)\n",
    "    landing_time_on_stairs = randint(1, max_landing_time_on_stairs)\n",
    "    arriving_time = randint(1, max_arriving_time)\n",
    "    leaving_time = randint(max_arriving_time + 1, max_leaving_time)\n",
    "\n",
    "    flight = Flight(flight_identifier, maximum_capacity, number_of_passengers, parking_time, length_wings, inspection_time, landing_time_on_stairs, arriving_time, leaving_time)\n",
    "    \n",
    "    list_of_flights.append(flight)\n",
    "  \n",
    "  return list_of_flights"
   ]
  },
  {
   "cell_type": "markdown",
   "metadata": {
    "id": "uHsytNf6oaXJ"
   },
   "source": [
    "### Funciones utilitarias para ordenar los Vuelos y Gates</b>\n",
    "Estas son funciones utilitarias para ordenar los Vuelos acorde a su deseabilidad y los Gates por su flujo personas"
   ]
  },
  {
   "cell_type": "code",
   "execution_count": 119,
   "metadata": {
    "id": "25baejsnob3d"
   },
   "outputs": [],
   "source": [
    "# Funcion para ordenar vuelos por su grado de deseabilidad  ( nro_pasajeros/tiempo_en_aeropuerto )\n",
    "def process_desirability(n):\n",
    "  return n.number_of_passengers / (n.leaving_time - n.arriving_time)\n",
    "\n",
    "# Funcion para ordenar Gates por su capacidad de flujo de personas  \n",
    "def process_flow(n):\n",
    "  return n.number_of_persons_every_10m * n.potential_of_speed * 10 / n.distance"
   ]
  },
  {
   "cell_type": "markdown",
   "metadata": {
    "id": "Gqws5RELpMG1"
   },
   "source": [
    "### Funciones utilitarias para el Algoritmo Genético</b>\n",
    "Estas son funciones utilitarias para realizar el Algoritmo Genético que se encargue de la asignación de vuelos"
   ]
  },
  {
   "cell_type": "code",
   "execution_count": 120,
   "metadata": {},
   "outputs": [],
   "source": [
    "# Inicialización aleatoria de la población\n",
    "def init_population(population_number, flights_to_assign, list_of_flights, list_of_gates):\n",
    "  population = []\n",
    "  for i in range(population_number):\n",
    "    flights = sample(list_of_flights, flights_to_assign)  # escoge los vuelos del individuo\n",
    "    gates = sample(list_of_gates, flights_to_assign) # escoge los gates del individuo\n",
    "    \n",
    "    population.append( Individual(flights, gates, list_of_flights, list_of_gates) )\n",
    "  return population"
   ]
  },
  {
   "cell_type": "code",
   "execution_count": 121,
   "metadata": {},
   "outputs": [],
   "source": [
    "# Evalua una individuo representado por sus listas:  flights, gates\n",
    "def fitness(flights, gates):\n",
    "  grace_time = 5/100\n",
    "\n",
    "  cumulative_efficiency = 0\n",
    "  for flight, gate in zip(flights, gates):\n",
    "    number_of_passengers = flight.number_of_passengers\n",
    "    if isinstance(gate, Sleeve):  # si el gate es de tipo Manga \n",
    "      disembarkation_time_of_passengers = ( (number_of_passengers * (gate.distance + flight.length_wings) / process_flow(gate)) + flight.parking_time + flight.inspection_time ) * (1 + grace_time)\n",
    "    else:  # si el gate es de tipo Zona\n",
    "      disembarkation_time_of_passengers = ( (number_of_passengers * gate.distance / process_flow(gate)) + flight.parking_time + (flight.landing_time_on_stairs * number_of_passengers / flight.maximum_capacity) + flight.inspection_time ) * (1 + grace_time)\n",
    "    \n",
    "    # la eficiencia de una asignacion flight-gate es la cantidad total de pasajeros desembarcados por unidad de tiempo\n",
    "    cumulative_efficiency += number_of_passengers / disembarkation_time_of_passengers\n",
    "  return cumulative_efficiency\n"
   ]
  },
  {
   "cell_type": "code",
   "execution_count": 122,
   "metadata": {},
   "outputs": [],
   "source": [
    "# Evaluar la población con la función fitness\n",
    "def evaluate_population(population, fitness_fn):\n",
    "  \"\"\" Evalua una poblacion de individuos con la funcion de fitness pasada \"\"\"\n",
    "  population_size = len(population)\n",
    "  for i in range(population_size):\n",
    "    if population[i].fitness == -1:    # Evalúa sólo si el individuo no esta evaluado\n",
    "      population[i].fitness = fitness_fn(population[i].flights, population[i].gates)"
   ]
  },
  {
   "cell_type": "code",
   "execution_count": 123,
   "metadata": {},
   "outputs": [],
   "source": [
    "# Selección de padres por el método roulette\n",
    "def select_parents_roulette(population):\n",
    "    popsize = len(population)\n",
    "    \n",
    "    # Escoje el primer padre\n",
    "    sumfitness = sum([indiv.fitness for indiv in population])  # suma total del fitness de la poblacion\n",
    "    pickfitness = random.uniform(0, sumfitness)   # escoge un numero aleatorio entre 0 y sumfitness\n",
    "    cumfitness = 0     # fitness acumulado\n",
    "    for i in range(popsize):\n",
    "        cumfitness += population[i].fitness\n",
    "        if cumfitness > pickfitness: \n",
    "            iParent1 = i\n",
    "            break\n",
    "    \n",
    "    # Escoje el segundo padre, desconsiderando el primer padre\n",
    "    sumfitness = sumfitness - population[iParent1].fitness # retira el fitness del padre ya escogido\n",
    "    pickfitness = random.uniform(0, sumfitness)   # escoge un numero aleatorio entre 0 y sumfitness\n",
    "    cumfitness = 0     # fitness acumulado\n",
    "    for i in range(popsize):\n",
    "        if i == iParent1: continue   # si es el primer padre \n",
    "        cumfitness += population[i].fitness\n",
    "        if cumfitness > pickfitness: \n",
    "            iParent2 = i\n",
    "            break        \n",
    "    return (population[iParent1], population[iParent2])"
   ]
  },
  {
   "cell_type": "code",
   "execution_count": 124,
   "metadata": {},
   "outputs": [],
   "source": [
    "# Selección de padres por el método de torneo\n",
    "def select_parents_tournament(population, tournament_size):\n",
    "    # Escoje el primer padre\n",
    "    list_indiv=[]\n",
    "    x1 = np.random.permutation(len(population) )\n",
    "    y1= x1[0:tournament_size]\n",
    "    for i in range(tournament_size):\n",
    "        list_indiv.append(population[y1[i]].fitness)\n",
    "    \n",
    "    iParent1=np.argmax(list_indiv)\n",
    "    \n",
    "    # Escoje el segundo padre, desconsiderando el primer padre   \n",
    "    x2 = np.delete(x1, iParent1)\n",
    "    x2 = np.random.permutation(x2)\n",
    "    list_indiv=[]\n",
    "    y2= x2[0:tournament_size]\n",
    "    for i in range(tournament_size):\n",
    "        list_indiv.append(population[y2[i]].fitness)\n",
    "    iParent2=np.argmax(list_indiv)\n",
    "    \n",
    "    return (population[x1[iParent1]],population[x2[iParent2]])"
   ]
  },
  {
   "cell_type": "code",
   "execution_count": 125,
   "metadata": {},
   "outputs": [],
   "source": [
    "# Selección de la nueva población con metodo de ranking\n",
    "def select_survivors_ranking(population, offspring_population, numsurvivors):\n",
    "    next_population = []\n",
    "    population.extend(offspring_population) # une las dos poblaciones\n",
    "    survivors = sorted(population, key=lambda x: x.fitness, reverse=True)[:numsurvivors]\n",
    "    next_population.extend(survivors)\n",
    "    return next_population"
   ]
  },
  {
   "cell_type": "markdown",
   "metadata": {},
   "source": [
    "### Algoritmo Genético"
   ]
  },
  {
   "cell_type": "code",
   "execution_count": 143,
   "metadata": {},
   "outputs": [],
   "source": [
    "def genetic_algorithm(list_of_flights, list_of_gates, num_individuals, flights_to_assign, fitness_fn, n_generations,\n",
    "                      selection_fn=\"roulette\", crossover=\"onepoint\", mutation=\"position\", p_mut=0.1):\n",
    "    #seed(0)\n",
    "\n",
    "    #Inicializa una poblacion inicial de forma aleatoria\n",
    "    population = init_population(num_individuals, flights_to_assign, list_of_flights, list_of_gates)\n",
    "\n",
    "    population_size = len(population)\n",
    "    evaluate_population(population, fitness_fn)\n",
    "\n",
    "    best_ind = sorted(population, key=lambda x: x.fitness, reverse=True)[0]  # mejor individuo\n",
    "    bestfitness = [best_ind.fitness]  # guarda el fitness del mejor individuo\n",
    "    print(\"Poblacion inicial, best_fitness = {}\".format(best_ind.fitness))\n",
    "\n",
    "    for g in range(n_generations):  # ciclo evolutivo\n",
    "\n",
    "        ## Selecciona parejas de individuos (mating_pool) para cruzamiento con el metodo de la ruleta\n",
    "        mating_pool = []\n",
    "        for i in range(int(population_size / 2)):\n",
    "            if selection_fn == \"roulette\":\n",
    "                mating_pool.append(select_parents_roulette(population))\n",
    "            elif selection_fn == \"tournament\":\n",
    "                mating_pool.append(select_parents_tournament(population, 3))  #torneo de tamaño 3\n",
    "            else:\n",
    "                raise NotImplementedError\n",
    "\n",
    "        ## Crea la poblacion descendencia cruzando las parejas del mating pool\n",
    "        offspring_population = []\n",
    "        for i in range(len(mating_pool)):\n",
    "            if crossover == \"onepoint\":\n",
    "                offspring_population.extend(mating_pool[i][0].crossover_onepoint(mating_pool[i][1]))\n",
    "            elif crossover == \"onepoint_custom\":\n",
    "                offspring_population.extend(mating_pool[i][0].crossover_onepoint_custom(mating_pool[i][1]))\n",
    "            elif crossover == \"uniform\":\n",
    "                offspring_population.extend(mating_pool[i][0].crossover_uniform(mating_pool[i][1]))\n",
    "            elif crossover == \"uniform_custom\":\n",
    "                offspring_population.extend(mating_pool[i][0].crossover_uniform_custom(mating_pool[i][1]))\n",
    "            else:\n",
    "                raise NotImplementedError\n",
    "\n",
    "        ## Aplica el operador de mutacion con probabilidad pmut en cada hijo generado\n",
    "        for i in range(len(offspring_population)):\n",
    "            if uniform(0, 1) < p_mut:\n",
    "                if mutation == \"position\":\n",
    "                    offspring_population[i] = offspring_population[i].mutate_position()\n",
    "                elif mutation == \"swap\":\n",
    "                    offspring_population[i] = offspring_population[i].mutate_swap()\n",
    "                elif mutation == \"insertion\":\n",
    "                    offspring_population[i] = offspring_population[i].mutate_insertion()\n",
    "                else:\n",
    "                    raise NotImplementedError\n",
    "\n",
    "        ## Evalua la población descendencia creada\n",
    "        evaluate_population(offspring_population, fitness_fn)\n",
    "\n",
    "        ## Selecciona individuos para la siguiente generación con el método de ranking\n",
    "        population = select_survivors_ranking(population, offspring_population, population_size)  #metodo de ranking\n",
    "\n",
    "        ## Almacena la historia del fitness del mejor individuo\n",
    "        best_ind = sorted(population, key=lambda x: x.fitness, reverse=True)[0]  # mejor individuo de la poblacion actual\n",
    "        bestfitness.append(best_ind.fitness)\n",
    "\n",
    "        # if (g % 100 == 0):  # muestra resultados cada 10 generaciones\n",
    "            # print(\"generacion {}, (Mejor fitness = {})\".format(g, best_ind.fitness))\n",
    "\n",
    "    return best_ind, bestfitness  # devuelve el mejor individuo y la lista de mejores fitness x gen"
   ]
  },
  {
   "cell_type": "markdown",
   "metadata": {
    "id": "pc90jPukpbwN"
   },
   "source": [
    "### Funciones utilitarias para manejar la solución del Algoritmo Genético</b>\n",
    "Esta es una función utilitarias que permite mostrar la configuración usada en el Algoritmo Genético y la asignación de Vuelos a Gates encontrada en un individuo pasado (ind)"
   ]
  },
  {
   "cell_type": "code",
   "execution_count": 145,
   "metadata": {
    "id": "yb6LUKwKpXDJ"
   },
   "outputs": [],
   "source": [
    "def make_solution_report(ind, selection_fn, crossover, mutation, pmut):\n",
    "    print(\"Selection: {} - Crossover: {} - Mutation: {} - pmut: {} - Fitness: {}\".format(selection_fn, crossover, mutation, pmut, ind.fitness), flush=True)\n",
    "\n",
    "    assigned_gates = {}\n",
    "    violates_constraints = False\n",
    "\n",
    "    for flight, gate in zip(ind.flights, ind.gates):\n",
    "        if gate.identifier in assigned_gates:\n",
    "            assigned_gates[gate.identifier].append(flight.identifier)\n",
    "            violates_constraints = True\n",
    "        else:\n",
    "            assigned_gates[gate.identifier] = [flight.identifier]\n",
    "\n",
    "    if violates_constraints:\n",
    "        # print(\"El algoritmo genético no cumple con las políticas establecidas\", flush=True)\n",
    "        return False\n",
    "    else:\n",
    "        # print(\"\\n\".join([\"Flight {} in {} {}\".format(flight.identifier, \"Zone\" if isinstance(gate, Zone) == True else \"Sleeve\", gate.identifier) for flight, gate in zip(ind.flights, ind.gates)]) + \"\\n\", flush=True)\n",
    "        return True"
   ]
  },
  {
   "cell_type": "markdown",
   "metadata": {
    "id": "qYjVdTfeg-q6"
   },
   "source": [
    "## <b>Probando el Algoritmo Genético</b> "
   ]
  },
  {
   "cell_type": "markdown",
   "metadata": {
    "id": "1m0pxINHqQ2m"
   },
   "source": [
    "### <b>Generación de Gates y Vuelos</b> \n",
    "\n",
    "Genera los Gates y Vuelos para que el Algoritmo Genético  realize la asignacion. Asegura que el numero de vuelos a asignar (**flights_to_assign**) no sea mayor a la cantidad de puertas "
   ]
  },
  {
   "cell_type": "code",
   "execution_count": 130,
   "metadata": {
    "id": "DaqP5VHngUVg"
   },
   "outputs": [],
   "source": [
    "seed(0)\n",
    "\n",
    "number_of_gates = 70\n",
    "number_of_flights = 300\n",
    "\n",
    "# general los vuelos y gates\n",
    "list_of_gates = generate_list_of_gates(number_of_gates)\n",
    "list_of_flights = generate_list_of_flights(number_of_flights)\n",
    "\n",
    "# obtiene el número de vuelos que el algoritmo genético puede asignar (no puede ser mayor al número de gates disponibles)\n",
    "flights_to_assign = number_of_flights if number_of_flights <= number_of_gates else number_of_gates\n",
    "\n",
    "# ordena los vuelos por su deseabilidad y los gates por su capacidad de flujo de personas\n",
    "list_of_flights = sorted(list_of_flights, key=process_desirability, reverse=True)\n",
    "list_of_gates = sorted(list_of_gates, key=process_flow, reverse=True)"
   ]
  },
  {
   "cell_type": "markdown",
   "metadata": {
    "id": "PmmLPnvYrP6v"
   },
   "source": [
    "### <b>Experimentación con el Algoritmo Genético</b> "
   ]
  },
  {
   "cell_type": "code",
   "execution_count": 139,
   "metadata": {
    "colab": {
     "base_uri": "https://localhost:8080/"
    },
    "executionInfo": {
     "elapsed": 1481,
     "status": "ok",
     "timestamp": 1620669551366,
     "user": {
      "displayName": "FRANCO PARIASCA TREVEJO",
      "photoUrl": "",
      "userId": "00191544209069005587"
     },
     "user_tz": 300
    },
    "id": "CnfOnMijrP6x",
    "outputId": "4164975d-a037-4eb0-bfde-2dc8cbfb95fe"
   },
   "outputs": [
    {
     "name": "stdout",
     "output_type": "stream",
     "text": [
      "Poblacion inicial, best_fitness = 3.691708624803752\n",
      "generacion 0, (Mejor fitness = 3.885975007304972)\n",
      "generacion 100, (Mejor fitness = 5.236515818027379)\n",
      "generacion 200, (Mejor fitness = 5.236515818027379)\n",
      "generacion 300, (Mejor fitness = 5.236515818027379)\n",
      "generacion 400, (Mejor fitness = 5.236515818027379)\n",
      "generacion 500, (Mejor fitness = 5.236515818027379)\n",
      "generacion 600, (Mejor fitness = 5.236515818027379)\n",
      "generacion 700, (Mejor fitness = 5.236515818027379)\n",
      "generacion 800, (Mejor fitness = 5.236515818027379)\n",
      "generacion 900, (Mejor fitness = 5.236515818027379)\n"
     ]
    },
    {
     "data": {
      "text/plain": "<Figure size 640x480 with 1 Axes>",
      "image/png": "[encoded data removed]"
     },
     "metadata": {},
     "output_type": "display_data"
    },
    {
     "name": "stdout",
     "output_type": "stream",
     "text": [
      "Selection: roulette - Crossover: uniform - Mutation: position - pmut: 0 - Fitness: 5.236515818027379\n",
      "El algoritmo genético no cumple con las restricciones\n"
     ]
    },
    {
     "data": {
      "text/plain": "False"
     },
     "execution_count": 139,
     "metadata": {},
     "output_type": "execute_result"
    }
   ],
   "source": [
    "num_individuals = 50\n",
    "\n",
    "fitness_fn = fitness\n",
    "n_generations = 1000\n",
    "\n",
    "best_fitness = 0\n",
    "\n",
    "selection_fn = \"roulette\"\n",
    "crossover = \"uniform\" # onepoint, onepoint_custom, uniform, uniform_custom\n",
    "mutation = \"position\" # position, swap, insertion\n",
    "p_mut = 0\n",
    "\n",
    "# Realiza la asignacion con el algoritmo genetico\n",
    "best_ind, bestfitness = genetic_algorithm(list_of_flights, list_of_gates, num_individuals, flights_to_assign, fitness_fn, n_generations, selection_fn, crossover, mutation, p_mut)\n",
    "\n",
    "# muestra la evolucion del mejor fitness\n",
    "plt.plot(bestfitness)\n",
    "plt.show()\n",
    "\n",
    "# imprime la mejor solucion\n",
    "make_solution_report(best_ind, selection_fn, crossover, mutation, p_mut)"
   ]
  },
  {
   "cell_type": "code",
   "execution_count": null,
   "outputs": [
    {
     "name": "stdout",
     "output_type": "stream",
     "text": [
      "Poblacion inicial, best_fitness = 3.544561112646607\n",
      "Selection: roulette - Crossover: uniform - Mutation: position - pmut: 0.05 - Fitness: 5.394994592056581\n",
      "Poblacion inicial, best_fitness = 3.8636186045728125\n",
      "Selection: roulette - Crossover: uniform - Mutation: position - pmut: 0.5 - Fitness: 5.485031705269262\n",
      "Poblacion inicial, best_fitness = 3.98185265636702\n",
      "Selection: roulette - Crossover: uniform - Mutation: position - pmut: 1 - Fitness: 5.597203563597659\n",
      "Poblacion inicial, best_fitness = 4.052971913705613\n",
      "Selection: roulette - Crossover: uniform - Mutation: swap - pmut: 0.05 - Fitness: 5.820709587460658\n",
      "Poblacion inicial, best_fitness = 3.7707927287015917\n",
      "Selection: roulette - Crossover: uniform - Mutation: swap - pmut: 0.5 - Fitness: 6.073637083594832\n",
      "Poblacion inicial, best_fitness = 3.506496373949967\n",
      "Selection: roulette - Crossover: uniform - Mutation: swap - pmut: 1 - Fitness: 5.384568148364048\n",
      "Poblacion inicial, best_fitness = 3.658022674438334\n",
      "Selection: roulette - Crossover: uniform - Mutation: insertion - pmut: 0.05 - Fitness: 5.559391238690248\n",
      "Poblacion inicial, best_fitness = 3.2235658127758313\n",
      "Selection: roulette - Crossover: uniform - Mutation: insertion - pmut: 0.5 - Fitness: 5.020454021403191\n",
      "Poblacion inicial, best_fitness = 3.499389350560997\n",
      "Selection: roulette - Crossover: uniform - Mutation: insertion - pmut: 1 - Fitness: 5.580390665490875\n",
      "Poblacion inicial, best_fitness = 3.5719384195268447\n",
      "Selection: roulette - Crossover: uniform_custom - Mutation: position - pmut: 0.05 - Fitness: 4.748064648199649\n",
      "Poblacion inicial, best_fitness = 3.753012282449932\n",
      "Selection: roulette - Crossover: uniform_custom - Mutation: position - pmut: 0.5 - Fitness: 4.869922618719953\n",
      "Poblacion inicial, best_fitness = 3.8191732707434705\n",
      "Selection: roulette - Crossover: uniform_custom - Mutation: position - pmut: 1 - Fitness: 4.822532536747606\n",
      "Poblacion inicial, best_fitness = 3.406371412477893\n",
      "Selection: roulette - Crossover: uniform_custom - Mutation: swap - pmut: 0.05 - Fitness: 4.096855408045467\n",
      "Poblacion inicial, best_fitness = 3.572162594388377\n",
      "Selection: roulette - Crossover: uniform_custom - Mutation: swap - pmut: 0.05 - Fitness: 4.462850023813113\n",
      "Poblacion inicial, best_fitness = 3.283323737635068\n",
      "Selection: roulette - Crossover: uniform_custom - Mutation: swap - pmut: 0.05 - Fitness: 4.105511931506328\n",
      "Poblacion inicial, best_fitness = 3.6696914085972847\n",
      "Selection: roulette - Crossover: uniform_custom - Mutation: swap - pmut: 0.05 - Fitness: 4.079647011625606\n",
      "Poblacion inicial, best_fitness = 3.8163840228181845\n",
      "Selection: roulette - Crossover: uniform_custom - Mutation: swap - pmut: 0.05 - Fitness: 4.115913244419887\n",
      "Poblacion inicial, best_fitness = 3.356602636170895\n",
      "Selection: roulette - Crossover: uniform_custom - Mutation: swap - pmut: 0.05 - Fitness: 4.2894781768207455\n",
      "Poblacion inicial, best_fitness = 3.937004242327013\n",
      "Selection: roulette - Crossover: uniform_custom - Mutation: swap - pmut: 0.05 - Fitness: 4.302518509037302\n",
      "Poblacion inicial, best_fitness = 3.847878377341216\n",
      "Selection: roulette - Crossover: uniform_custom - Mutation: swap - pmut: 0.05 - Fitness: 4.492570006803354\n",
      "Poblacion inicial, best_fitness = 3.6077024071141715\n",
      "Selection: roulette - Crossover: uniform_custom - Mutation: swap - pmut: 0.05 - Fitness: 4.615627344656058\n",
      "Poblacion inicial, best_fitness = 3.7037815679144774\n",
      "Selection: roulette - Crossover: uniform_custom - Mutation: swap - pmut: 0.05 - Fitness: 4.465951664852261\n",
      "Promedio del mejor fitness: 4.302692332158012\n",
      "Desviación estándar del mejor fitness: 0.19786223764041636\n",
      "\n",
      "Poblacion inicial, best_fitness = 3.7044834820563275\n",
      "Selection: roulette - Crossover: uniform_custom - Mutation: swap - pmut: 0.5 - Fitness: 4.264969673362156\n",
      "Poblacion inicial, best_fitness = 3.7755338136930225\n",
      "Selection: roulette - Crossover: uniform_custom - Mutation: swap - pmut: 0.5 - Fitness: 4.447817128486452\n",
      "Poblacion inicial, best_fitness = 3.7881227992274056\n",
      "Selection: roulette - Crossover: uniform_custom - Mutation: swap - pmut: 0.5 - Fitness: 4.588568549205365\n",
      "Poblacion inicial, best_fitness = 3.8269438709454517\n",
      "Selection: roulette - Crossover: uniform_custom - Mutation: swap - pmut: 0.5 - Fitness: 4.850937847253147\n",
      "Poblacion inicial, best_fitness = 3.620158298591395\n",
      "Selection: roulette - Crossover: uniform_custom - Mutation: swap - pmut: 0.5 - Fitness: 4.4501630590725245\n",
      "Poblacion inicial, best_fitness = 3.5968141954852055\n",
      "Selection: roulette - Crossover: uniform_custom - Mutation: swap - pmut: 0.5 - Fitness: 4.226411363470508\n",
      "Poblacion inicial, best_fitness = 3.8699201508266308\n",
      "Selection: roulette - Crossover: uniform_custom - Mutation: swap - pmut: 0.5 - Fitness: 4.354081440584782\n",
      "Poblacion inicial, best_fitness = 3.5987414820185855\n",
      "Selection: roulette - Crossover: uniform_custom - Mutation: swap - pmut: 0.5 - Fitness: 4.70242664404477\n",
      "Poblacion inicial, best_fitness = 3.971458592393824\n",
      "Selection: roulette - Crossover: uniform_custom - Mutation: swap - pmut: 0.5 - Fitness: 4.493572661598435\n",
      "Poblacion inicial, best_fitness = 3.9038462935638183\n",
      "Selection: roulette - Crossover: uniform_custom - Mutation: swap - pmut: 0.5 - Fitness: 4.619771861867774\n",
      "Promedio del mejor fitness: 4.499872022894591\n",
      "Desviación estándar del mejor fitness: 0.19520751003734735\n",
      "\n",
      "Poblacion inicial, best_fitness = 3.657078542458885\n",
      "Selection: roulette - Crossover: uniform_custom - Mutation: swap - pmut: 1 - Fitness: 4.640958370437696\n",
      "Poblacion inicial, best_fitness = 3.4616570501468162\n",
      "Selection: roulette - Crossover: uniform_custom - Mutation: swap - pmut: 1 - Fitness: 4.415068274029067\n",
      "Poblacion inicial, best_fitness = 3.796257721623298\n",
      "Selection: roulette - Crossover: uniform_custom - Mutation: swap - pmut: 1 - Fitness: 4.349866852861624\n",
      "Poblacion inicial, best_fitness = 3.8409903496298186\n",
      "Selection: roulette - Crossover: uniform_custom - Mutation: swap - pmut: 1 - Fitness: 4.53612037322824\n",
      "Poblacion inicial, best_fitness = 3.2891901666568795\n",
      "Selection: roulette - Crossover: uniform_custom - Mutation: swap - pmut: 1 - Fitness: 4.4767251394821495\n",
      "Poblacion inicial, best_fitness = 3.92506935403331\n",
      "Selection: roulette - Crossover: uniform_custom - Mutation: swap - pmut: 1 - Fitness: 4.325979856925139\n",
      "Poblacion inicial, best_fitness = 4.0036516197671235\n",
      "Selection: roulette - Crossover: uniform_custom - Mutation: swap - pmut: 1 - Fitness: 4.646942360767902\n",
      "Poblacion inicial, best_fitness = 3.6310015125447928\n",
      "Selection: roulette - Crossover: uniform_custom - Mutation: swap - pmut: 1 - Fitness: 4.407532437650643\n",
      "Poblacion inicial, best_fitness = 3.3388770751722343\n",
      "Selection: roulette - Crossover: uniform_custom - Mutation: swap - pmut: 1 - Fitness: 4.46847735978566\n",
      "Poblacion inicial, best_fitness = 4.041658342947988\n",
      "Selection: roulette - Crossover: uniform_custom - Mutation: swap - pmut: 1 - Fitness: 4.536099804965242\n",
      "Promedio del mejor fitness: 4.4803770830133365\n",
      "Desviación estándar del mejor fitness: 0.11072519755453959\n",
      "\n",
      "Poblacion inicial, best_fitness = 3.542918464792721\n",
      "Selection: roulette - Crossover: uniform_custom - Mutation: insertion - pmut: 0.05 - Fitness: 4.347796618074919\n",
      "Poblacion inicial, best_fitness = 3.7312872203858323\n",
      "Selection: roulette - Crossover: uniform_custom - Mutation: insertion - pmut: 0.05 - Fitness: 4.359784460751859\n",
      "Poblacion inicial, best_fitness = 3.5114201928752022\n",
      "Selection: roulette - Crossover: uniform_custom - Mutation: insertion - pmut: 0.05 - Fitness: 4.603181358607927\n",
      "Poblacion inicial, best_fitness = 3.539583556004403\n",
      "Selection: roulette - Crossover: uniform_custom - Mutation: insertion - pmut: 0.05 - Fitness: 4.221667811807988\n",
      "Poblacion inicial, best_fitness = 3.880170896542948\n",
      "Selection: roulette - Crossover: uniform_custom - Mutation: insertion - pmut: 0.05 - Fitness: 4.22519285768416\n",
      "Poblacion inicial, best_fitness = 3.5395675461127585\n",
      "Selection: roulette - Crossover: uniform_custom - Mutation: insertion - pmut: 0.05 - Fitness: 4.335792241307559\n",
      "Poblacion inicial, best_fitness = 3.927218485340857\n",
      "Selection: roulette - Crossover: uniform_custom - Mutation: insertion - pmut: 0.05 - Fitness: 4.353648537202931\n",
      "Poblacion inicial, best_fitness = 3.432862026074795\n",
      "Selection: roulette - Crossover: uniform_custom - Mutation: insertion - pmut: 0.05 - Fitness: 4.025009938798528\n",
      "Poblacion inicial, best_fitness = 3.2479785261108773\n",
      "Selection: roulette - Crossover: uniform_custom - Mutation: insertion - pmut: 0.05 - Fitness: 3.9000363873010384\n",
      "Poblacion inicial, best_fitness = 3.7886517027178197\n",
      "Selection: roulette - Crossover: uniform_custom - Mutation: insertion - pmut: 0.05 - Fitness: 4.168370003942511\n",
      "Promedio del mejor fitness: 4.254048021547942\n",
      "Desviación estándar del mejor fitness: 0.19592230967420832\n",
      "\n",
      "Poblacion inicial, best_fitness = 3.6672987480986854\n",
      "Selection: roulette - Crossover: uniform_custom - Mutation: insertion - pmut: 0.5 - Fitness: 4.162221780550163\n",
      "Poblacion inicial, best_fitness = 3.8090376103116683\n",
      "Selection: roulette - Crossover: uniform_custom - Mutation: insertion - pmut: 0.5 - Fitness: 4.484779108295154\n",
      "Poblacion inicial, best_fitness = 3.6392372186332365\n",
      "Selection: roulette - Crossover: uniform_custom - Mutation: insertion - pmut: 0.5 - Fitness: 4.382511099733062\n",
      "Poblacion inicial, best_fitness = 3.4149563018844926\n",
      "Selection: roulette - Crossover: uniform_custom - Mutation: insertion - pmut: 0.5 - Fitness: 4.504199084228243\n",
      "Poblacion inicial, best_fitness = 3.663400778126752\n",
      "Selection: roulette - Crossover: uniform_custom - Mutation: insertion - pmut: 0.5 - Fitness: 4.342344149507471\n",
      "Poblacion inicial, best_fitness = 3.802704901300359\n"
     ]
    }
   ],
   "source": [
    "from random import seed\n",
    "import matplotlib.pyplot as plt\n",
    "import statistics\n",
    "\n",
    "# Configuración de semilla aleatoria para reproducibilidad\n",
    "seed(0)\n",
    "\n",
    "number_of_gates = 10\n",
    "number_of_flights = 30\n",
    "\n",
    "# Generar los vuelos y gates\n",
    "list_of_gates = generate_list_of_gates(number_of_gates)\n",
    "list_of_flights = generate_list_of_flights(number_of_flights)\n",
    "\n",
    "# Obtener el número de vuelos que el algoritmo genético puede asignar\n",
    "flights_to_assign = min(number_of_flights, number_of_gates)\n",
    "\n",
    "# Ordenar los vuelos por deseabilidad y los gates por capacidad de flujo de personas\n",
    "list_of_flights = sorted(list_of_flights, key=process_desirability, reverse=True)\n",
    "list_of_gates = sorted(list_of_gates, key=process_flow, reverse=True)\n",
    "\n",
    "num_individuals = 50\n",
    "fitness_fn = fitness\n",
    "n_generations =300\n",
    "selection_fn = \"roulette\"\n",
    "\n",
    "best_run_ind = {}\n",
    "best_run_fitness = [0]\n",
    "best_config_ind = {}\n",
    "best_config_fitness = [0]\n",
    "best_config = {}\n",
    "\n",
    "# onepoint, onepoint_custom, uniform, uniform_custom\n",
    "# position, swap, insertion\n",
    "\n",
    "# Configuración de los experimentos\n",
    "configurations = [\n",
    "    {\"crossover\": \"uniform\", \"mutation\": \"position\", \"p_mut\": 0.05, \"runs\": 10},\n",
    "    {\"crossover\": \"uniform\", \"mutation\": \"position\", \"p_mut\": 0.5, \"runs\": 10},\n",
    "    {\"crossover\": \"uniform\", \"mutation\": \"position\", \"p_mut\": 1, \"runs\": 10},\n",
    "    {\"crossover\": \"uniform\", \"mutation\": \"swap\", \"p_mut\": 0.05, \"runs\": 10},\n",
    "    {\"crossover\": \"uniform\", \"mutation\": \"swap\", \"p_mut\": 0.5, \"runs\": 10},\n",
    "    {\"crossover\": \"uniform\", \"mutation\": \"swap\", \"p_mut\": 1, \"runs\": 10},\n",
    "    {\"crossover\": \"uniform\", \"mutation\": \"insertion\", \"p_mut\": 0.05, \"runs\": 10},\n",
    "    {\"crossover\": \"uniform\", \"mutation\": \"insertion\", \"p_mut\": 0.5, \"runs\": 10},\n",
    "    {\"crossover\": \"uniform\", \"mutation\": \"insertion\", \"p_mut\": 1, \"runs\": 10},\n",
    "\n",
    "    {\"crossover\": \"uniform_custom\", \"mutation\": \"position\", \"p_mut\": 0.05, \"runs\": 10},\n",
    "    {\"crossover\": \"uniform_custom\", \"mutation\": \"position\", \"p_mut\": 0.5, \"runs\": 10},\n",
    "    {\"crossover\": \"uniform_custom\", \"mutation\": \"position\", \"p_mut\": 1, \"runs\": 10},\n",
    "    {\"crossover\": \"uniform_custom\", \"mutation\": \"swap\", \"p_mut\": 0.05, \"runs\": 10},\n",
    "    {\"crossover\": \"uniform_custom\", \"mutation\": \"swap\", \"p_mut\": 0.5, \"runs\": 10},\n",
    "    {\"crossover\": \"uniform_custom\", \"mutation\": \"swap\", \"p_mut\": 1, \"runs\": 10},\n",
    "    {\"crossover\": \"uniform_custom\", \"mutation\": \"insertion\", \"p_mut\": 0.05, \"runs\": 10},\n",
    "    {\"crossover\": \"uniform_custom\", \"mutation\": \"insertion\", \"p_mut\": 0.5, \"runs\": 10},\n",
    "    {\"crossover\": \"uniform_custom\", \"mutation\": \"insertion\", \"p_mut\": 1, \"runs\": 10},\n",
    "\n",
    "    {\"crossover\": \"onepoint\", \"mutation\": \"position\", \"p_mut\": 0.05, \"runs\": 10},\n",
    "    {\"crossover\": \"onepoint\", \"mutation\": \"position\", \"p_mut\": 0.5, \"runs\": 10},\n",
    "    {\"crossover\": \"onepoint\", \"mutation\": \"position\", \"p_mut\": 1, \"runs\": 10},\n",
    "    {\"crossover\": \"onepoint\", \"mutation\": \"swap\", \"p_mut\": 0.05, \"runs\": 10},\n",
    "    {\"crossover\": \"onepoint\", \"mutation\": \"swap\", \"p_mut\": 0.5, \"runs\": 10},\n",
    "    {\"crossover\": \"onepoint\", \"mutation\": \"swap\", \"p_mut\": 1, \"runs\": 10},\n",
    "    {\"crossover\": \"onepoint\", \"mutation\": \"insertion\", \"p_mut\": 0.05, \"runs\": 10},\n",
    "    {\"crossover\": \"onepoint\", \"mutation\": \"insertion\", \"p_mut\": 0.5, \"runs\": 10},\n",
    "    {\"crossover\": \"onepoint\", \"mutation\": \"insertion\", \"p_mut\": 1, \"runs\": 10},\n",
    "\n",
    "    {\"crossover\": \"onepoint_custom\", \"mutation\": \"position\", \"p_mut\": 0.05, \"runs\": 10},\n",
    "    {\"crossover\": \"onepoint_custom\", \"mutation\": \"position\", \"p_mut\": 0.5, \"runs\": 10},\n",
    "    {\"crossover\": \"onepoint_custom\", \"mutation\": \"position\", \"p_mut\": 1, \"runs\": 10},\n",
    "    {\"crossover\": \"onepoint_custom\", \"mutation\": \"swap\", \"p_mut\": 0.05, \"runs\": 10},\n",
    "    {\"crossover\": \"onepoint_custom\", \"mutation\": \"swap\", \"p_mut\": 0.5, \"runs\": 10},\n",
    "    {\"crossover\": \"onepoint_custom\", \"mutation\": \"swap\", \"p_mut\": 1, \"runs\": 10},\n",
    "    {\"crossover\": \"onepoint_custom\", \"mutation\": \"insertion\", \"p_mut\": 0.05, \"runs\": 10},\n",
    "    {\"crossover\": \"onepoint_custom\", \"mutation\": \"insertion\", \"p_mut\": 0.5, \"runs\": 10},\n",
    "    {\"crossover\": \"onepoint_custom\", \"mutation\": \"insertion\", \"p_mut\": 1, \"runs\": 10}\n",
    "]\n",
    "\n",
    "# Realizar los experimentos para cada configuración\n",
    "for config in configurations:\n",
    "    crossover = config[\"crossover\"]\n",
    "    mutation = config[\"mutation\"]\n",
    "    p_mut = config[\"p_mut\"]\n",
    "    runs = config[\"runs\"]\n",
    "\n",
    "    best_fitness_values = []\n",
    "\n",
    "    for run in range(runs):\n",
    "        # Realizar una corrida del algoritmo genético\n",
    "        best_ind, best_fitness = genetic_algorithm(list_of_flights, list_of_gates, num_individuals, flights_to_assign,\n",
    "                                                   fitness_fn, n_generations, selection_fn, crossover, mutation, p_mut)\n",
    "        best_fitness_values.append(best_fitness[-1])  # Guardar el mejor fitness de la última generación\n",
    "\n",
    "        # imprime la mejor solucion\n",
    "        isValid = make_solution_report(best_ind, selection_fn, crossover, mutation, p_mut)\n",
    "\n",
    "        if isValid and best_run_fitness[-1] < best_fitness[-1]:\n",
    "            best_run_fitness = best_fitness\n",
    "            best_run_ind = best_ind\n",
    "\n",
    "        if not isValid:\n",
    "            break\n",
    "\n",
    "    if len(best_fitness_values) == 10:\n",
    "        # Calcular estadísticas de los mejores fitness\n",
    "        avg_best_fitness = statistics.mean(best_fitness_values)\n",
    "        std_best_fitness = statistics.stdev(best_fitness_values)\n",
    "\n",
    "        # print(\"Configuración:\")\n",
    "        # print(f\"Crossover: {crossover}, Mutación: {mutation}, Tasa de mutación: {p_mut}\")\n",
    "        print(f\"Promedio del mejor fitness: {avg_best_fitness}\")\n",
    "        print(f\"Desviación estándar del mejor fitness: {std_best_fitness}\")\n",
    "        print()\n",
    "\n",
    "        if best_config_fitness[-1] < best_run_fitness[-1]:\n",
    "            best_config_fitness = best_run_fitness\n",
    "            best_config_ind = best_run_ind\n",
    "            best_config = config\n",
    "\n",
    "    # Visualizar la evolución del mejor fitness para la última corrida\n",
    "    # plt.plot(best_run_fitness)\n",
    "    # plt.xlabel(\"Generación\")\n",
    "    # plt.ylabel(\"Fitness\")\n",
    "    # plt.title(\"Evolución del Mejor Fitness\")\n",
    "    # plt.show()\n",
    "\n",
    "crossover = best_config[\"crossover\"]\n",
    "mutation = best_config[\"mutation\"]\n",
    "p_mut = best_config[\"p_mut\"]\n",
    "\n",
    "print(\"Configuración:\")\n",
    "print(f\"Crossover: {crossover}, Mutación: {mutation}, Tasa de mutación: {p_mut}\")\n",
    "print()\n",
    "\n",
    "# Visualizar la evolución del mejor fitness para la última corrida\n",
    "plt.plot(best_config_fitness)\n",
    "plt.xlabel(\"Generación\")\n",
    "plt.ylabel(\"Fitness\")\n",
    "plt.title(\"Evolución del Mejor Fitness\")\n",
    "plt.show()\n",
    "\n",
    "# imprime la mejor solucion\n",
    "make_solution_report(best_config_ind, selection_fn, crossover, mutation, p_mut)"
   ],
   "metadata": {
    "collapsed": false,
    "pycharm": {
     "is_executing": true
    }
   }
  }
 ],
 "metadata": {
  "colab": {
   "collapsed_sections": [],
   "name": "LAB_5_ACC_2021_1_Solución v2.ipynb",
   "provenance": []
  },
  "kernelspec": {
   "display_name": "Python 3",
   "language": "python",
   "name": "python3"
  },
  "language_info": {
   "codemirror_mode": {
    "name": "ipython",
    "version": 3
   },
   "file_extension": ".py",
   "mimetype": "text/x-python",
   "name": "python",
   "nbconvert_exporter": "python",
   "pygments_lexer": "ipython3",
   "version": "3.8.3"
  }
 },
 "nbformat": 4,
 "nbformat_minor": 1
}
